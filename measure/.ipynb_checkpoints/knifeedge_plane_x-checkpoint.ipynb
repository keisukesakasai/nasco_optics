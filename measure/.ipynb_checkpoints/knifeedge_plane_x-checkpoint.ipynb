{
 "cells": [
  {
   "cell_type": "code",
   "execution_count": null,
   "metadata": {},
   "outputs": [
    {
     "name": "stdout",
     "output_type": "stream",
     "text": [
      "Interface GPG7400(1): open\n",
      "Interface GPG7400(1): read_counter\n",
      "Interface GPG7400(1): read_counter\n",
      "Interface GPG7400(1): set_pulse_out\n",
      "Interface GPG7400(1): set_motion\n",
      "Interface GPG7400(1): start_motion\n",
      "============Knifeedge Measurement============\n",
      "Axis : X\n",
      "Stroke : 1 [mm]\n",
      "CoorValue : X = 0.0 [mm]\n",
      "Destinate : X = 195 \n",
      "=========================================\n",
      "\n",
      "\n",
      "Interface GPG7400(1): set_pulse_out\n",
      "Interface GPG7400(1): set_motion\n",
      "Interface GPG7400(1): start_motion\n",
      "============Knifeedge Measurement============\n",
      "Axis : X\n",
      "Stroke : 1 [mm]\n",
      "CoorValue : X = 1.0 [mm]\n",
      "Destinate : X = 195 \n",
      "=========================================\n",
      "\n",
      "\n",
      "Interface GPG7400(1): set_pulse_out\n",
      "Interface GPG7400(1): set_motion\n",
      "Interface GPG7400(1): start_motion\n",
      "============Knifeedge Measurement============\n",
      "Axis : X\n",
      "Stroke : 1 [mm]\n",
      "CoorValue : X = 2.0 [mm]\n",
      "Destinate : X = 195 \n",
      "=========================================\n",
      "\n",
      "\n",
      "Interface GPG7400(1): set_pulse_out\n",
      "Interface GPG7400(1): set_motion\n",
      "Interface GPG7400(1): start_motion\n",
      "============Knifeedge Measurement============\n",
      "Axis : X\n",
      "Stroke : 1 [mm]\n",
      "CoorValue : X = 3.0 [mm]\n",
      "Destinate : X = 195 \n",
      "=========================================\n",
      "\n",
      "\n",
      "Interface GPG7400(1): set_pulse_out\n",
      "Interface GPG7400(1): set_motion\n",
      "Interface GPG7400(1): start_motion\n",
      "============Knifeedge Measurement============\n",
      "Axis : X\n",
      "Stroke : 1 [mm]\n",
      "CoorValue : X = 4.0 [mm]\n",
      "Destinate : X = 195 \n",
      "=========================================\n",
      "\n",
      "\n",
      "Interface GPG7400(1): set_pulse_out\n",
      "Interface GPG7400(1): set_motion\n",
      "Interface GPG7400(1): start_motion\n",
      "============Knifeedge Measurement============\n",
      "Axis : X\n",
      "Stroke : 1 [mm]\n",
      "CoorValue : X = 5.0 [mm]\n",
      "Destinate : X = 195 \n",
      "=========================================\n",
      "\n",
      "\n",
      "Interface GPG7400(1): set_pulse_out\n",
      "Interface GPG7400(1): set_motion\n",
      "Interface GPG7400(1): start_motion\n",
      "============Knifeedge Measurement============\n",
      "Axis : X\n",
      "Stroke : 1 [mm]\n",
      "CoorValue : X = 6.0 [mm]\n",
      "Destinate : X = 195 \n",
      "=========================================\n",
      "\n",
      "\n",
      "Interface GPG7400(1): set_pulse_out\n",
      "Interface GPG7400(1): set_motion\n",
      "Interface GPG7400(1): start_motion\n",
      "============Knifeedge Measurement============\n",
      "Axis : X\n",
      "Stroke : 1 [mm]\n",
      "CoorValue : X = 7.0 [mm]\n",
      "Destinate : X = 195 \n",
      "=========================================\n",
      "\n",
      "\n",
      "Interface GPG7400(1): set_pulse_out\n",
      "Interface GPG7400(1): set_motion\n",
      "Interface GPG7400(1): start_motion\n"
     ]
    }
   ],
   "source": [
    "# x-axis\n",
    "\n",
    "import os, sys, numpy, time, datetime\n",
    "\n",
    "start = time.time()\n",
    "\n",
    "import NASCORX_System.base.Motor\n",
    "import NASCORX_System.device.ML2437A\n",
    "import NASCORX_System.base.libMotor as lib\n",
    "\n",
    "class pycolor(object):\n",
    "    RED = '\\033[31m'\n",
    "    ENDC = '\\033[0m'\n",
    "    \n",
    "slider = NASCORX_System.base.Motor.slider()\n",
    "pm = NASCORX_System.device.ML2437A.ml2437a(IP='192.168.100.161', GPIB=13)\n",
    "x = slider.query_position(pos=lib.MOTOR_XAXIS_POS)\n",
    "y = slider.query_position(pos=lib.MOTOR_YAXIS_POS)\n",
    "average = 1 # PowerMeter\n",
    "length = 195\n",
    "strk = 1\n",
    "sleep_x = 0.5\n",
    "now = datetime.datetime.now()\n",
    "os.mkdir('/home/amigos/sakasai/jupyter/beam_mesure/data/data_at_{0:%Y%m%d-%H%M%S}'.format(now))\n",
    "os.chdir('/home/amigos/sakasai/jupyter/beam_mesure/data/data_at_{0:%Y%m%d-%H%M%S}'.format(now))\n",
    "\n",
    "data_x_cw = []\n",
    "data_x_ccw = []\n",
    "\n",
    "# x = 32 まで動かす\n",
    "# slider.slide_ccw(strk=32, axis='U')\n",
    "#a = input()\n",
    "# 取り付ける\n",
    "\n",
    "# xdirection_mesurement\n",
    "## x_ccw\n",
    "for i in range(length+1):\n",
    "    ret_1x = []\n",
    "    ret_2x = []\n",
    "    for i in range(average):\n",
    "        ret_= pm.measure() # system1\n",
    "        ret_1x.append(ret_)\n",
    "        #ret_ = pm.measure() # system2\n",
    "        #ret_2y.append(ret_)\n",
    "        ret_2x.append(0)\n",
    "    ret_ave1 = round(numpy.mean(ret_1x), 6)\n",
    "    ret_ave2 = round(numpy.mean(ret_2x), 6)\n",
    "    data_x_ccw.append([time.time(), round(x, 1), ret_ave1, ret_ave2])\n",
    "    numpy.savetxt('{0:%Y%m%d-%H%M%S}_x_ccw.csv'.format(now), numpy.array(data_x_ccw), delimiter=',', fmt=['%f', '%.0f', '%.6f', '%.6f'])\n",
    "    slider.slide_ccw(strk=strk, axis='U')\n",
    "    time.sleep(sleep_x)   \n",
    "    msg = 'Axis : {0}\\nStroke : {1} [mm]\\nCoorValue : {0} = {2} [mm]\\nDestinate : {0} = {3} '.format('X', strk, x, length)\n",
    "    print('============'+'Knifeedge Measurement'+'============')\n",
    "    print(msg)\n",
    "    print('=========================================\\n\\n')\n",
    "    x = x + strk\n",
    "x = length\n",
    "slider.slide_cw(strk=1, axis='U') \n",
    "\n",
    "# 状態2に変更する\n",
    "a = input()\n",
    "\n",
    "for i in range(length+1):\n",
    "    ret_1x = []\n",
    "    ret_2x = []\n",
    "    for i in range(average):\n",
    "        ret_= pm.measure() # system1\n",
    "        ret_1x.append(ret_)\n",
    "        ret_2x.append(0)\n",
    "    ret_ave1 = round(numpy.mean(ret_1x), 6)\n",
    "    ret_ave2 = round(numpy.mean(ret_2x), 6)\n",
    "    data_x_cw.append([time.time(), round(x, 1), ret_ave1, ret_ave2])\n",
    "    numpy.savetxt('{0:%Y%m%d-%H%M%S}_x_cw.csv'.format(now), numpy.array(data_x_cw), delimiter=',', fmt=['%f', '%.0f', '%.6f', '%.6f'])\n",
    "    slider.slide_cw(strk=strk, axis='U')\n",
    "    time.sleep(sleep_x)   \n",
    "    msg = 'Axis : {0}\\nStroke : {1} [mm]\\nCoorValue : {0} = {2} [mm]\\nDestinate : {0} = {3} [mm]'.format('X', strk, x, 'Origin!!')\n",
    "    print('============'+'Knifeedge Measurement'+'============')\n",
    "    print(msg)\n",
    "    print('=========================================\\n\\n')\n",
    "    x = x - strk\n",
    "slider.return_org(out=lib.RETURN_ORIGIN_XAXIS) # return_origin\n",
    "print(pycolor.RED + '\\n\\nx-axis Measurement finished!!!' + pycolor.ENDC)\n",
    "print(pycolor.RED + 'x-axis Measurement finished!!!' + pycolor.ENDC)\n",
    "print(pycolor.RED + 'x-axis Measurement finished!!!' + pycolor.ENDC)\n",
    "print(pycolor.RED + '\\n\\n'\n",
    "      '=-=-=-=-=-=-=-=-=-=-=-=-=-=-=-=-=-=-=-=\\n'\n",
    "      '   Finish : Knifeedge Measurement  \\n'\n",
    "      '=-=-=-=-=-=-=-=-=-=-=-=-=-=-=-=-=-=-=-=\\n'\n",
    "      'x-axis : 0 [mm] - {0} [mm] \\n'\n",
    "      'y-axis : 0 [mm] - {0} [mm] \\n'.format(length) + pycolor.ENDC)\n",
    "\n",
    "slider.close_board()"
   ]
  },
  {
   "cell_type": "code",
   "execution_count": 3,
   "metadata": {},
   "outputs": [
    {
     "name": "stdout",
     "output_type": "stream",
     "text": [
      "Interface GPG7400(1): close\n"
     ]
    }
   ],
   "source": [
    "slider.close_board()"
   ]
  },
  {
   "cell_type": "code",
   "execution_count": 40,
   "metadata": {},
   "outputs": [
    {
     "name": "stdout",
     "output_type": "stream",
     "text": [
      "Interface GPG7400(1): set_pulse_out\n",
      "Interface GPG7400(1): set_motion\n",
      "Interface GPG7400(1): start_motion\n"
     ]
    }
   ],
   "source": [
    "slider.slide_cw(strk=10, axis='Y')"
   ]
  },
  {
   "cell_type": "code",
   "execution_count": 31,
   "metadata": {},
   "outputs": [
    {
     "data": {
      "text/plain": [
       "-2.08"
      ]
     },
     "execution_count": 31,
     "metadata": {},
     "output_type": "execute_result"
    }
   ],
   "source": [
    "pm.measure()"
   ]
  },
  {
   "cell_type": "code",
   "execution_count": 2,
   "metadata": {},
   "outputs": [
    {
     "name": "stdout",
     "output_type": "stream",
     "text": [
      "Interface GPG7400(1): output_do\n",
      "Interface GPG7400(1): output_do\n",
      "Interface GPG7400(1): output_do\n",
      "Interface GPG7400(1): output_do\n",
      "Interface GPG7400(1): output_do\n",
      "Interface GPG7400(1): output_do\n",
      "Interface GPG7400(1): output_do\n",
      "Interface GPG7400(1): output_do\n",
      "Interface GPG7400(1): output_do\n",
      "Interface GPG7400(1): output_do\n",
      "Interface GPG7400(1): output_do\n",
      "Interface GPG7400(1): output_do\n",
      "Interface GPG7400(1): output_do\n",
      "Interface GPG7400(1): output_do\n",
      "Interface GPG7400(1): output_do\n"
     ]
    }
   ],
   "source": [
    "slider.return_org(out=lib.RETURN_ORIGIN_XAXIS)"
   ]
  },
  {
   "cell_type": "code",
   "execution_count": null,
   "metadata": {
    "collapsed": true
   },
   "outputs": [],
   "source": []
  }
 ],
 "metadata": {
  "kernelspec": {
   "display_name": "Python 3",
   "language": "python",
   "name": "python3"
  },
  "language_info": {
   "codemirror_mode": {
    "name": "ipython",
    "version": 3
   },
   "file_extension": ".py",
   "mimetype": "text/x-python",
   "name": "python",
   "nbconvert_exporter": "python",
   "pygments_lexer": "ipython3",
   "version": "3.6.1"
  }
 },
 "nbformat": 4,
 "nbformat_minor": 2
}
