{
 "cells": [
  {
   "cell_type": "code",
   "execution_count": null,
   "metadata": {},
   "outputs": [
    {
     "name": "stdout",
     "output_type": "stream",
     "text": [
      "Interface GPG7400(1): open\n",
      "Interface GPG7400(1): read_counter\n",
      "Interface GPG7400(1): read_counter\n",
      "Interface GPG7400(1): set_pulse_out\n",
      "Interface GPG7400(1): set_motion\n",
      "Interface GPG7400(1): start_motion\n",
      "\n",
      "Interface GPG7400(1): set_pulse_out\n",
      "Interface GPG7400(1): set_motion\n",
      "Interface GPG7400(1): start_motion\n",
      "============Knifeedge Measurement============\n",
      "Axis : Y\n",
      "Stroke : 1 [mm]\n",
      "CoorValue : Y = -0.0 [mm]\n",
      "Destinate : Y = 170 \n",
      "=========================================\n",
      "\n",
      "\n",
      "Interface GPG7400(1): set_pulse_out\n",
      "Interface GPG7400(1): set_motion\n",
      "Interface GPG7400(1): start_motion\n",
      "============Knifeedge Measurement============\n",
      "Axis : Y\n",
      "Stroke : 1 [mm]\n",
      "CoorValue : Y = 1.0 [mm]\n",
      "Destinate : Y = 170 \n",
      "=========================================\n",
      "\n",
      "\n",
      "Interface GPG7400(1): set_pulse_out\n",
      "Interface GPG7400(1): set_motion\n",
      "Interface GPG7400(1): start_motion\n",
      "============Knifeedge Measurement============\n",
      "Axis : Y\n",
      "Stroke : 1 [mm]\n",
      "CoorValue : Y = 2.0 [mm]\n",
      "Destinate : Y = 170 \n",
      "=========================================\n",
      "\n",
      "\n",
      "Interface GPG7400(1): set_pulse_out\n",
      "Interface GPG7400(1): set_motion\n",
      "Interface GPG7400(1): start_motion\n",
      "============Knifeedge Measurement============\n",
      "Axis : Y\n",
      "Stroke : 1 [mm]\n",
      "CoorValue : Y = 3.0 [mm]\n",
      "Destinate : Y = 170 \n",
      "=========================================\n",
      "\n",
      "\n",
      "Interface GPG7400(1): set_pulse_out\n",
      "Interface GPG7400(1): set_motion\n",
      "Interface GPG7400(1): start_motion\n",
      "============Knifeedge Measurement============\n",
      "Axis : Y\n",
      "Stroke : 1 [mm]\n",
      "CoorValue : Y = 4.0 [mm]\n",
      "Destinate : Y = 170 \n",
      "=========================================\n",
      "\n",
      "\n"
     ]
    }
   ],
   "source": [
    "# y-axis\n",
    "\n",
    "import os, sys, numpy, time, datetime\n",
    "\n",
    "start = time.time()\n",
    "\n",
    "import NASCORX_System.base.Motor\n",
    "import NASCORX_System.device.ML2437A\n",
    "import NASCORX_System.base.libMotor as lib\n",
    "\n",
    "class pycolor(object):\n",
    "    RED = '\\033[31m'\n",
    "    ENDC = '\\033[0m'\n",
    "    \n",
    "slider = NASCORX_System.base.Motor.slider()\n",
    "pm = NASCORX_System.device.ML2437A.ml2437a(IP='192.168.100.161', GPIB=13)\n",
    "x = slider.query_position(pos=lib.MOTOR_XAXIS_POS)\n",
    "y = slider.query_position(pos=lib.MOTOR_YAXIS_POS)\n",
    "average = 1 # PowerMeter\n",
    "length = 170\n",
    "strk = 1\n",
    "sleep_y = 0.5\n",
    "now = datetime.datetime.now()\n",
    "os.mkdir('/home/amigos/sakasai/jupyter/beam_mesure/data/data_at_{0:%Y%m%d-%H%M%S}'.format(now))\n",
    "os.chdir('/home/amigos/sakasai/jupyter/beam_mesure/data/data_at_{0:%Y%m%d-%H%M%S}'.format(now))\n",
    "\n",
    "data_y_cw = []\n",
    "data_y_ccw = []\n",
    "\n",
    "# y = 32 まで動かす\n",
    "slider.slide_cw(strk=32, axis='Y')\n",
    "a = input()\n",
    "# 取り付ける\n",
    "\n",
    "# ydirection_mesurement\n",
    "## y_cw\n",
    "for i in range(length+1):\n",
    "    ret_1y = []\n",
    "    ret_2y = []\n",
    "    for i in range(average):\n",
    "        ret_= pm.measure() # system1\n",
    "        ret_1y.append(ret_)\n",
    "        #ret_ = pm.measure() # system2\n",
    "        #ret_2y.append(ret_)\n",
    "        ret_2y.append(0)\n",
    "    ret_ave1 = round(numpy.mean(ret_1y), 6)\n",
    "    ret_ave2 = round(numpy.mean(ret_2y), 6)\n",
    "    data_y_cw.append([round(y, 1), ret_ave1, ret_ave2])\n",
    "    numpy.savetxt('{0:%Y%m%d-%H%M%S}_y_cw.csv'.format(now), numpy.array(data_y_cw), delimiter=',', fmt=['%.0f', '%.6f', '%.6f'])\n",
    "    slider.slide_cw(strk=strk, axis='Y')\n",
    "    time.sleep(sleep_y)   \n",
    "    msg = 'Axis : {0}\\nStroke : {1} [mm]\\nCoorValue : {0} = {2} [mm]\\nDestinate : {0} = {3} '.format('Y', strk, y, length)\n",
    "    print('============'+'Knifeedge Measurement'+'============')\n",
    "    print(msg)\n",
    "    print('=========================================\\n\\n')\n",
    "    y = y + strk\n",
    "y = length\n",
    "slider.slide_ccw(strk=1, axis='Y') \n",
    "\n",
    "# 状態2に変更する\n",
    "a = input()\n",
    "\n",
    "for i in range(length+1):\n",
    "    ret_1y = []\n",
    "    ret_2y = []\n",
    "    for i in range(average):\n",
    "        ret_= pm.measure() # system1\n",
    "        ret_1y.append(ret_)\n",
    "        ret_2y.append(0)\n",
    "    ret_ave1 = round(numpy.mean(ret_1y), 6)\n",
    "    ret_ave2 = round(numpy.mean(ret_2y), 6)\n",
    "    data_y_ccw.append([time.time(), round(y, 1), ret_ave1, ret_ave2])\n",
    "    numpy.savetxt('{0:%Y%m%d-%H%M%S}_y_ccw.csv'.format(now), numpy.array(data_y_ccw), delimiter=',', fmt=['%f', '%.0f', '%.6f', '%.6f'])\n",
    "    slider.slide_ccw(strk=strk, axis='Y')\n",
    "    time.sleep(sleep_y)   \n",
    "    msg = 'Axis : {0}\\nStroke : {1} [mm]\\nCoorValue : {0} = {2} [mm]\\nDestinate : {0} = {3} [mm]'.format('Y', strk, y, 'Origin!!')\n",
    "    print('============'+'Knifeedge Measurement'+'============')\n",
    "    print(msg)\n",
    "    print('=========================================\\n\\n')\n",
    "    y = y - strk\n",
    "slider.return_org(out=lib.RETURN_ORIGIN_YAXIS) # return_origin\n",
    "print(pycolor.RED + '\\n\\ny-axis Measurement finished!!!' + pycolor.ENDC)\n",
    "print(pycolor.RED + 'y-axis Measurement finished!!!' + pycolor.ENDC)\n",
    "print(pycolor.RED + 'y-axis Measurement finished!!!' + pycolor.ENDC)\n",
    "print(pycolor.RED + '\\n\\n'\n",
    "      '=-=-=-=-=-=-=-=-=-=-=-=-=-=-=-=-=-=-=-=\\n'\n",
    "      '   Finish : Knifeedge Measurement  \\n'\n",
    "      '=-=-=-=-=-=-=-=-=-=-=-=-=-=-=-=-=-=-=-=\\n'\n",
    "      'x-axis : 0 [mm] - {0} [mm] \\n'\n",
    "      'y-axis : 0 [mm] - {0} [mm] \\n'.format(length) + pycolor.ENDC)\n",
    "\n",
    "slider.close_board()"
   ]
  },
  {
   "cell_type": "code",
   "execution_count": 4,
   "metadata": {},
   "outputs": [
    {
     "name": "stdout",
     "output_type": "stream",
     "text": [
      "Interface GPG7400(1): close\n"
     ]
    }
   ],
   "source": [
    "slider.close_board()"
   ]
  },
  {
   "cell_type": "code",
   "execution_count": 40,
   "metadata": {},
   "outputs": [
    {
     "name": "stdout",
     "output_type": "stream",
     "text": [
      "Interface GPG7400(1): set_pulse_out\n",
      "Interface GPG7400(1): set_motion\n",
      "Interface GPG7400(1): start_motion\n"
     ]
    }
   ],
   "source": [
    "slider.slide_cw(strk=10, axis='Y')"
   ]
  },
  {
   "cell_type": "code",
   "execution_count": 2,
   "metadata": {},
   "outputs": [
    {
     "name": "stdout",
     "output_type": "stream",
     "text": [
      "Interface GPG7400(1): output_do\n",
      "Interface GPG7400(1): output_do\n",
      "Interface GPG7400(1): output_do\n",
      "Interface GPG7400(1): output_do\n",
      "Interface GPG7400(1): output_do\n",
      "Interface GPG7400(1): output_do\n",
      "Interface GPG7400(1): output_do\n",
      "Interface GPG7400(1): output_do\n",
      "Interface GPG7400(1): output_do\n",
      "Interface GPG7400(1): output_do\n",
      "Interface GPG7400(1): output_do\n",
      "Interface GPG7400(1): output_do\n",
      "Interface GPG7400(1): output_do\n",
      "Interface GPG7400(1): output_do\n",
      "Interface GPG7400(1): output_do\n"
     ]
    }
   ],
   "source": [
    "slider.return_org(out=lib.RETURN_ORIGIN_YAXIS)"
   ]
  },
  {
   "cell_type": "code",
   "execution_count": null,
   "metadata": {
    "collapsed": true
   },
   "outputs": [],
   "source": [
    "a = row_input()"
   ]
  },
  {
   "cell_type": "code",
   "execution_count": 1,
   "metadata": {},
   "outputs": [
    {
     "name": "stdout",
     "output_type": "stream",
     "text": [
      "Interface GPG7400(1): open\n"
     ]
    }
   ],
   "source": [
    "import os, sys, numpy, time, datetime\n",
    "\n",
    "start = time.time()\n",
    "\n",
    "import NASCORX_System.base.Motor\n",
    "import NASCORX_System.device.ML2437A\n",
    "import NASCORX_System.base.libMotor as lib\n",
    "\n",
    "class pycolor(object):\n",
    "    RED = '\\033[31m'\n",
    "    ENDC = '\\033[0m'\n",
    "    \n",
    "slider = NASCORX_System.base.Motor.slider()"
   ]
  },
  {
   "cell_type": "code",
   "execution_count": null,
   "metadata": {
    "collapsed": true
   },
   "outputs": [],
   "source": []
  }
 ],
 "metadata": {
  "kernelspec": {
   "display_name": "Python 3",
   "language": "python",
   "name": "python3"
  },
  "language_info": {
   "codemirror_mode": {
    "name": "ipython",
    "version": 3
   },
   "file_extension": ".py",
   "mimetype": "text/x-python",
   "name": "python",
   "nbconvert_exporter": "python",
   "pygments_lexer": "ipython3",
   "version": "3.6.1"
  }
 },
 "nbformat": 4,
 "nbformat_minor": 2
}
