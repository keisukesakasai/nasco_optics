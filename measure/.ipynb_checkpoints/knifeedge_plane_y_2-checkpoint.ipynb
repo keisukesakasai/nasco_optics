{
 "cells": [
  {
   "cell_type": "code",
   "execution_count": 2,
   "metadata": {},
   "outputs": [
    {
     "name": "stdout",
     "output_type": "stream",
     "text": [
      "Interface GPG7400(1): open\n",
      "Interface GPG7400(1): read_counter\n",
      "Interface GPG7400(1): read_counter\n",
      "Interface GPG7400(1): set_pulse_out\n",
      "Interface GPG7400(1): set_motion\n",
      "Interface GPG7400(1): start_motion\n"
     ]
    },
    {
     "ename": "KeyboardInterrupt",
     "evalue": "",
     "output_type": "error",
     "traceback": [
      "\u001b[0;31m---------------------------------------------------------------------------\u001b[0m",
      "\u001b[0;31mKeyboardInterrupt\u001b[0m                         Traceback (most recent call last)",
      "\u001b[0;32m/home/amigos/.pyenv/versions/anaconda3-4.4.0/lib/python3.6/site-packages/ipykernel/kernelbase.py\u001b[0m in \u001b[0;36m_input_request\u001b[0;34m(self, prompt, ident, parent, password)\u001b[0m\n\u001b[1;32m    729\u001b[0m             \u001b[0;32mtry\u001b[0m\u001b[0;34m:\u001b[0m\u001b[0;34m\u001b[0m\u001b[0m\n\u001b[0;32m--> 730\u001b[0;31m                 \u001b[0mident\u001b[0m\u001b[0;34m,\u001b[0m \u001b[0mreply\u001b[0m \u001b[0;34m=\u001b[0m \u001b[0mself\u001b[0m\u001b[0;34m.\u001b[0m\u001b[0msession\u001b[0m\u001b[0;34m.\u001b[0m\u001b[0mrecv\u001b[0m\u001b[0;34m(\u001b[0m\u001b[0mself\u001b[0m\u001b[0;34m.\u001b[0m\u001b[0mstdin_socket\u001b[0m\u001b[0;34m,\u001b[0m \u001b[0;36m0\u001b[0m\u001b[0;34m)\u001b[0m\u001b[0;34m\u001b[0m\u001b[0m\n\u001b[0m\u001b[1;32m    731\u001b[0m             \u001b[0;32mexcept\u001b[0m \u001b[0mException\u001b[0m\u001b[0;34m:\u001b[0m\u001b[0;34m\u001b[0m\u001b[0m\n",
      "\u001b[0;32m/home/amigos/.pyenv/versions/anaconda3-4.4.0/lib/python3.6/site-packages/jupyter_client/session.py\u001b[0m in \u001b[0;36mrecv\u001b[0;34m(self, socket, mode, content, copy)\u001b[0m\n\u001b[1;32m    777\u001b[0m         \u001b[0;32mtry\u001b[0m\u001b[0;34m:\u001b[0m\u001b[0;34m\u001b[0m\u001b[0m\n\u001b[0;32m--> 778\u001b[0;31m             \u001b[0mmsg_list\u001b[0m \u001b[0;34m=\u001b[0m \u001b[0msocket\u001b[0m\u001b[0;34m.\u001b[0m\u001b[0mrecv_multipart\u001b[0m\u001b[0;34m(\u001b[0m\u001b[0mmode\u001b[0m\u001b[0;34m,\u001b[0m \u001b[0mcopy\u001b[0m\u001b[0;34m=\u001b[0m\u001b[0mcopy\u001b[0m\u001b[0;34m)\u001b[0m\u001b[0;34m\u001b[0m\u001b[0m\n\u001b[0m\u001b[1;32m    779\u001b[0m         \u001b[0;32mexcept\u001b[0m \u001b[0mzmq\u001b[0m\u001b[0;34m.\u001b[0m\u001b[0mZMQError\u001b[0m \u001b[0;32mas\u001b[0m \u001b[0me\u001b[0m\u001b[0;34m:\u001b[0m\u001b[0;34m\u001b[0m\u001b[0m\n",
      "\u001b[0;32m/home/amigos/.pyenv/versions/anaconda3-4.4.0/lib/python3.6/site-packages/zmq/sugar/socket.py\u001b[0m in \u001b[0;36mrecv_multipart\u001b[0;34m(self, flags, copy, track)\u001b[0m\n\u001b[1;32m    394\u001b[0m         \"\"\"\n\u001b[0;32m--> 395\u001b[0;31m         \u001b[0mparts\u001b[0m \u001b[0;34m=\u001b[0m \u001b[0;34m[\u001b[0m\u001b[0mself\u001b[0m\u001b[0;34m.\u001b[0m\u001b[0mrecv\u001b[0m\u001b[0;34m(\u001b[0m\u001b[0mflags\u001b[0m\u001b[0;34m,\u001b[0m \u001b[0mcopy\u001b[0m\u001b[0;34m=\u001b[0m\u001b[0mcopy\u001b[0m\u001b[0;34m,\u001b[0m \u001b[0mtrack\u001b[0m\u001b[0;34m=\u001b[0m\u001b[0mtrack\u001b[0m\u001b[0;34m)\u001b[0m\u001b[0;34m]\u001b[0m\u001b[0;34m\u001b[0m\u001b[0m\n\u001b[0m\u001b[1;32m    396\u001b[0m         \u001b[0;31m# have first part already, only loop while more to receive\u001b[0m\u001b[0;34m\u001b[0m\u001b[0;34m\u001b[0m\u001b[0m\n",
      "\u001b[0;32mzmq/backend/cython/socket.pyx\u001b[0m in \u001b[0;36mzmq.backend.cython.socket.Socket.recv (zmq/backend/cython/socket.c:7683)\u001b[0;34m()\u001b[0m\n",
      "\u001b[0;32mzmq/backend/cython/socket.pyx\u001b[0m in \u001b[0;36mzmq.backend.cython.socket.Socket.recv (zmq/backend/cython/socket.c:7460)\u001b[0;34m()\u001b[0m\n",
      "\u001b[0;32mzmq/backend/cython/socket.pyx\u001b[0m in \u001b[0;36mzmq.backend.cython.socket._recv_copy (zmq/backend/cython/socket.c:2344)\u001b[0;34m()\u001b[0m\n",
      "\u001b[0;32m/home/amigos/.pyenv/versions/anaconda3-4.4.0/lib/python3.6/site-packages/zmq/backend/cython/checkrc.pxd\u001b[0m in \u001b[0;36mzmq.backend.cython.checkrc._check_rc (zmq/backend/cython/socket.c:9621)\u001b[0;34m()\u001b[0m\n",
      "\u001b[0;31mKeyboardInterrupt\u001b[0m: ",
      "\nDuring handling of the above exception, another exception occurred:\n",
      "\u001b[0;31mKeyboardInterrupt\u001b[0m                         Traceback (most recent call last)",
      "\u001b[0;32m<ipython-input-2-5815f361952f>\u001b[0m in \u001b[0;36m<module>\u001b[0;34m()\u001b[0m\n\u001b[1;32m     38\u001b[0m \u001b[0;31m# y = 32 まで動かす\u001b[0m\u001b[0;34m\u001b[0m\u001b[0;34m\u001b[0m\u001b[0m\n\u001b[1;32m     39\u001b[0m \u001b[0mslider\u001b[0m\u001b[0;34m.\u001b[0m\u001b[0mslide_cw\u001b[0m\u001b[0;34m(\u001b[0m\u001b[0mstrk\u001b[0m\u001b[0;34m=\u001b[0m\u001b[0;36m32\u001b[0m\u001b[0;34m,\u001b[0m \u001b[0maxis\u001b[0m\u001b[0;34m=\u001b[0m\u001b[0;34m'Y'\u001b[0m\u001b[0;34m)\u001b[0m\u001b[0;34m\u001b[0m\u001b[0m\n\u001b[0;32m---> 40\u001b[0;31m \u001b[0ma\u001b[0m \u001b[0;34m=\u001b[0m \u001b[0minput\u001b[0m\u001b[0;34m(\u001b[0m\u001b[0;34m)\u001b[0m\u001b[0;34m\u001b[0m\u001b[0m\n\u001b[0m\u001b[1;32m     41\u001b[0m \u001b[0;31m# 取り付ける\u001b[0m\u001b[0;34m\u001b[0m\u001b[0;34m\u001b[0m\u001b[0m\n\u001b[1;32m     42\u001b[0m \u001b[0;34m\u001b[0m\u001b[0m\n",
      "\u001b[0;32m/home/amigos/.pyenv/versions/anaconda3-4.4.0/lib/python3.6/site-packages/ipykernel/kernelbase.py\u001b[0m in \u001b[0;36mraw_input\u001b[0;34m(self, prompt)\u001b[0m\n\u001b[1;32m    703\u001b[0m             \u001b[0mself\u001b[0m\u001b[0;34m.\u001b[0m\u001b[0m_parent_ident\u001b[0m\u001b[0;34m,\u001b[0m\u001b[0;34m\u001b[0m\u001b[0m\n\u001b[1;32m    704\u001b[0m             \u001b[0mself\u001b[0m\u001b[0;34m.\u001b[0m\u001b[0m_parent_header\u001b[0m\u001b[0;34m,\u001b[0m\u001b[0;34m\u001b[0m\u001b[0m\n\u001b[0;32m--> 705\u001b[0;31m             \u001b[0mpassword\u001b[0m\u001b[0;34m=\u001b[0m\u001b[0;32mFalse\u001b[0m\u001b[0;34m,\u001b[0m\u001b[0;34m\u001b[0m\u001b[0m\n\u001b[0m\u001b[1;32m    706\u001b[0m         )\n\u001b[1;32m    707\u001b[0m \u001b[0;34m\u001b[0m\u001b[0m\n",
      "\u001b[0;32m/home/amigos/.pyenv/versions/anaconda3-4.4.0/lib/python3.6/site-packages/ipykernel/kernelbase.py\u001b[0m in \u001b[0;36m_input_request\u001b[0;34m(self, prompt, ident, parent, password)\u001b[0m\n\u001b[1;32m    733\u001b[0m             \u001b[0;32mexcept\u001b[0m \u001b[0mKeyboardInterrupt\u001b[0m\u001b[0;34m:\u001b[0m\u001b[0;34m\u001b[0m\u001b[0m\n\u001b[1;32m    734\u001b[0m                 \u001b[0;31m# re-raise KeyboardInterrupt, to truncate traceback\u001b[0m\u001b[0;34m\u001b[0m\u001b[0;34m\u001b[0m\u001b[0m\n\u001b[0;32m--> 735\u001b[0;31m                 \u001b[0;32mraise\u001b[0m \u001b[0mKeyboardInterrupt\u001b[0m\u001b[0;34m\u001b[0m\u001b[0m\n\u001b[0m\u001b[1;32m    736\u001b[0m             \u001b[0;32melse\u001b[0m\u001b[0;34m:\u001b[0m\u001b[0;34m\u001b[0m\u001b[0m\n\u001b[1;32m    737\u001b[0m                 \u001b[0;32mbreak\u001b[0m\u001b[0;34m\u001b[0m\u001b[0m\n",
      "\u001b[0;31mKeyboardInterrupt\u001b[0m: "
     ]
    }
   ],
   "source": [
    "# y-axis\n",
    "\n",
    "import os, sys, numpy, time, datetime\n",
    "\n",
    "start = time.time()\n",
    "\n",
    "import NASCORX_System.base.Motor\n",
    "import NASCORX_System.device.ML2437A\n",
    "import NASCORX_System.base.libMotor as lib\n",
    "\n",
    "class pycolor(object):\n",
    "    RED = '\\033[31m'\n",
    "    ENDC = '\\033[0m'\n",
    "    \n",
    "slider = NASCORX_System.base.Motor.slider()\n",
    "pm = NASCORX_System.device.ML2437A.ml2437a(IP='192.168.100.161', GPIB=13)\n",
    "x = slider.query_position(pos=lib.MOTOR_XAXIS_POS)\n",
    "y = slider.query_position(pos=lib.MOTOR_YAXIS_POS)\n",
    "average = 10 # PowerMeter\n",
    "length = 170\n",
    "strk = 1\n",
    "sleep_y = 0.5\n",
    "now = datetime.datetime.now()\n",
    "os.mkdir('/home/amigos/sakasai/jupyter/beam_mesure/data/data_at_{0:%Y%m%d-%H%M%S}'.format(now))\n",
    "os.chdir('/home/amigos/sakasai/jupyter/beam_mesure/data/data_at_{0:%Y%m%d-%H%M%S}'.format(now))\n",
    "\n",
    "data_y_cw = []\n",
    "data_y_ccw = []\n",
    "\n",
    "t = 1\n",
    "while t < 0.7:\n",
    "    t1 = time.time()\n",
    "    pm.measure()\n",
    "    t2 = time.time()\n",
    "    t = t2 -t1\n",
    "    print(t)\n",
    "\n",
    "# y = 32 まで動かす\n",
    "slider.slide_cw(strk=32, axis='Y')\n",
    "a = input()\n",
    "# 取り付ける\n",
    "\n",
    "# ydirection_mesurement\n",
    "## y_cw\n",
    "for i in range(length+1):\n",
    "    ret_1y = []\n",
    "    ret_2y = []\n",
    "    for i in range(average):\n",
    "        ret_ = pm.measure() # system1\n",
    "        ret_1y.append(ret_)\n",
    "    ret_ave1 = round(numpy.mean(ret_1y), 6)\n",
    "    ret_min = round(min(ret_1y), 6)\n",
    "    ret_max = round(max(ret_1y), 6)\n",
    "    data_y_cw.append([time.time(), round(y, 1), ret_ave1, ret_min, ret_max])\n",
    "    numpy.savetxt('{0:%Y%m%d-%H%M%S}_y_cw.csv'.format(now), numpy.array(data_y_cw), delimiter=',', fmt=['%f', '%.0f', '%.6f', '%.6f', '%.6f'])\n",
    "    slider.slide_cw(strk=strk, axis='Y')\n",
    "    time.sleep(sleep_y)   \n",
    "    msg = 'Axis : {0}\\nStroke : {1} [mm]\\nCoorValue : {0} = {2} [mm]\\nDestinate : {0} = {3} '.format('Y', strk, y, length)\n",
    "    print('============'+'Knifeedge Measurement'+'============')\n",
    "    print(msg)\n",
    "    print('=========================================\\n\\n')\n",
    "    y = y + strk\n",
    "y = length\n",
    "slider.slide_ccw(strk=1, axis='Y') \n",
    "\n",
    "# 状態2に変更する\n",
    "a = input()\n",
    "\n",
    "for i in range(length+1):\n",
    "    ret_1y = []\n",
    "    ret_2y = []\n",
    "    for i in range(average):\n",
    "        ret_= pm.measure() # system1\n",
    "        ret_1y.append(ret_)\n",
    "    ret_ave1 = round(numpy.mean(ret_1y), 6)\n",
    "    ret_min = round(min(ret_1y), 6)\n",
    "    ret_max = round(max(ret_1y), 6)\n",
    "    data_y_ccw.append([time.time(), round(y, 1), ret_ave1, ret_min, ret_max])\n",
    "    numpy.savetxt('{0:%Y%m%d-%H%M%S}_y_ccw.csv'.format(now), numpy.array(data_y_ccw), delimiter=',', fmt=['%f', '%.0f', '%.6f', '%.6f', '%.6f'])\n",
    "    slider.slide_ccw(strk=strk, axis='Y')\n",
    "    time.sleep(sleep_y)   \n",
    "    msg = 'Axis : {0}\\nStroke : {1} [mm]\\nCoorValue : {0} = {2} [mm]\\nDestinate : {0} = {3} [mm]'.format('Y', strk, y, 'Origin!!')\n",
    "    print('============'+'Knifeedge Measurement'+'============')\n",
    "    print(msg)\n",
    "    print('=========================================\\n\\n')\n",
    "    y = y - strk\n",
    "slider.return_org(out=lib.RETURN_ORIGIN_YAXIS) # return_origin\n",
    "print(pycolor.RED + '\\n\\ny-axis Measurement finished!!!' + pycolor.ENDC)\n",
    "print(pycolor.RED + 'y-axis Measurement finished!!!' + pycolor.ENDC)\n",
    "print(pycolor.RED + 'y-axis Measurement finished!!!' + pycolor.ENDC)\n",
    "print(pycolor.RED + '\\n\\n'\n",
    "      '=-=-=-=-=-=-=-=-=-=-=-=-=-=-=-=-=-=-=-=\\n'\n",
    "      '   Finish : Knifeedge Measurement  \\n'\n",
    "      '=-=-=-=-=-=-=-=-=-=-=-=-=-=-=-=-=-=-=-=\\n'\n",
    "      'x-axis : 0 [mm] - {0} [mm] \\n'\n",
    "      'y-axis : 0 [mm] - {0} [mm] \\n'.format(length) + pycolor.ENDC)\n",
    "\n",
    "slider.close_board()"
   ]
  },
  {
   "cell_type": "code",
   "execution_count": 8,
   "metadata": {},
   "outputs": [
    {
     "name": "stdout",
     "output_type": "stream",
     "text": [
      "Interface GPG7400(1): close\n"
     ]
    }
   ],
   "source": [
    "slider.close_board()"
   ]
  },
  {
   "cell_type": "code",
   "execution_count": 40,
   "metadata": {},
   "outputs": [
    {
     "name": "stdout",
     "output_type": "stream",
     "text": [
      "Interface GPG7400(1): set_pulse_out\n",
      "Interface GPG7400(1): set_motion\n",
      "Interface GPG7400(1): start_motion\n"
     ]
    }
   ],
   "source": [
    "slider.slide_cw(strk=10, axis='Y')"
   ]
  },
  {
   "cell_type": "code",
   "execution_count": 7,
   "metadata": {},
   "outputs": [
    {
     "name": "stdout",
     "output_type": "stream",
     "text": [
      "Interface GPG7400(1): output_do\n",
      "Interface GPG7400(1): output_do\n",
      "Interface GPG7400(1): output_do\n",
      "Interface GPG7400(1): output_do\n",
      "Interface GPG7400(1): output_do\n",
      "Interface GPG7400(1): output_do\n",
      "Interface GPG7400(1): output_do\n",
      "Interface GPG7400(1): output_do\n",
      "Interface GPG7400(1): output_do\n",
      "Interface GPG7400(1): output_do\n",
      "Interface GPG7400(1): output_do\n",
      "Interface GPG7400(1): output_do\n",
      "Interface GPG7400(1): output_do\n",
      "Interface GPG7400(1): output_do\n",
      "Interface GPG7400(1): output_do\n"
     ]
    }
   ],
   "source": [
    "slider.return_org(out=lib.RETURN_ORIGIN_YAXIS)"
   ]
  },
  {
   "cell_type": "code",
   "execution_count": null,
   "metadata": {
    "collapsed": true
   },
   "outputs": [],
   "source": [
    "a = row_input()"
   ]
  },
  {
   "cell_type": "code",
   "execution_count": 1,
   "metadata": {},
   "outputs": [
    {
     "name": "stdout",
     "output_type": "stream",
     "text": [
      "Interface GPG7400(1): open\n"
     ]
    }
   ],
   "source": [
    "import os, sys, numpy, time, datetime\n",
    "\n",
    "start = time.time()\n",
    "\n",
    "import NASCORX_System.base.Motor\n",
    "import NASCORX_System.device.ML2437A\n",
    "import NASCORX_System.base.libMotor as lib\n",
    "\n",
    "class pycolor(object):\n",
    "    RED = '\\033[31m'\n",
    "    ENDC = '\\033[0m'\n",
    "    \n",
    "slider = NASCORX_System.base.Motor.slider()"
   ]
  },
  {
   "cell_type": "code",
   "execution_count": null,
   "metadata": {
    "collapsed": true
   },
   "outputs": [],
   "source": []
  }
 ],
 "metadata": {
  "kernelspec": {
   "display_name": "Python 3",
   "language": "python",
   "name": "python3"
  },
  "language_info": {
   "codemirror_mode": {
    "name": "ipython",
    "version": 3
   },
   "file_extension": ".py",
   "mimetype": "text/x-python",
   "name": "python",
   "nbconvert_exporter": "python",
   "pygments_lexer": "ipython3",
   "version": "3.6.1"
  }
 },
 "nbformat": 4,
 "nbformat_minor": 2
}
