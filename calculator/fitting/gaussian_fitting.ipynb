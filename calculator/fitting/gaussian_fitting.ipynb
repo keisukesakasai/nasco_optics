{
 "cells": [
  {
   "cell_type": "code",
   "execution_count": 98,
   "metadata": {},
   "outputs": [
    {
     "ename": "KeyboardInterrupt",
     "evalue": "",
     "output_type": "error",
     "traceback": [
      "\u001b[0;31m---------------------------------------------------------------------------\u001b[0m",
      "\u001b[0;31mKeyboardInterrupt\u001b[0m                         Traceback (most recent call last)",
      "\u001b[0;32m/home/amigos/.pyenv/versions/anaconda3-4.4.0/lib/python3.6/site-packages/ipykernel/kernelbase.py\u001b[0m in \u001b[0;36m_input_request\u001b[0;34m(self, prompt, ident, parent, password)\u001b[0m\n\u001b[1;32m    729\u001b[0m             \u001b[0;32mtry\u001b[0m\u001b[0;34m:\u001b[0m\u001b[0;34m\u001b[0m\u001b[0m\n\u001b[0;32m--> 730\u001b[0;31m                 \u001b[0mident\u001b[0m\u001b[0;34m,\u001b[0m \u001b[0mreply\u001b[0m \u001b[0;34m=\u001b[0m \u001b[0mself\u001b[0m\u001b[0;34m.\u001b[0m\u001b[0msession\u001b[0m\u001b[0;34m.\u001b[0m\u001b[0mrecv\u001b[0m\u001b[0;34m(\u001b[0m\u001b[0mself\u001b[0m\u001b[0;34m.\u001b[0m\u001b[0mstdin_socket\u001b[0m\u001b[0;34m,\u001b[0m \u001b[0;36m0\u001b[0m\u001b[0;34m)\u001b[0m\u001b[0;34m\u001b[0m\u001b[0m\n\u001b[0m\u001b[1;32m    731\u001b[0m             \u001b[0;32mexcept\u001b[0m \u001b[0mException\u001b[0m\u001b[0;34m:\u001b[0m\u001b[0;34m\u001b[0m\u001b[0m\n",
      "\u001b[0;32m/home/amigos/.pyenv/versions/anaconda3-4.4.0/lib/python3.6/site-packages/jupyter_client/session.py\u001b[0m in \u001b[0;36mrecv\u001b[0;34m(self, socket, mode, content, copy)\u001b[0m\n\u001b[1;32m    777\u001b[0m         \u001b[0;32mtry\u001b[0m\u001b[0;34m:\u001b[0m\u001b[0;34m\u001b[0m\u001b[0m\n\u001b[0;32m--> 778\u001b[0;31m             \u001b[0mmsg_list\u001b[0m \u001b[0;34m=\u001b[0m \u001b[0msocket\u001b[0m\u001b[0;34m.\u001b[0m\u001b[0mrecv_multipart\u001b[0m\u001b[0;34m(\u001b[0m\u001b[0mmode\u001b[0m\u001b[0;34m,\u001b[0m \u001b[0mcopy\u001b[0m\u001b[0;34m=\u001b[0m\u001b[0mcopy\u001b[0m\u001b[0;34m)\u001b[0m\u001b[0;34m\u001b[0m\u001b[0m\n\u001b[0m\u001b[1;32m    779\u001b[0m         \u001b[0;32mexcept\u001b[0m \u001b[0mzmq\u001b[0m\u001b[0;34m.\u001b[0m\u001b[0mZMQError\u001b[0m \u001b[0;32mas\u001b[0m \u001b[0me\u001b[0m\u001b[0;34m:\u001b[0m\u001b[0;34m\u001b[0m\u001b[0m\n",
      "\u001b[0;32m/home/amigos/.pyenv/versions/anaconda3-4.4.0/lib/python3.6/site-packages/zmq/sugar/socket.py\u001b[0m in \u001b[0;36mrecv_multipart\u001b[0;34m(self, flags, copy, track)\u001b[0m\n\u001b[1;32m    394\u001b[0m         \"\"\"\n\u001b[0;32m--> 395\u001b[0;31m         \u001b[0mparts\u001b[0m \u001b[0;34m=\u001b[0m \u001b[0;34m[\u001b[0m\u001b[0mself\u001b[0m\u001b[0;34m.\u001b[0m\u001b[0mrecv\u001b[0m\u001b[0;34m(\u001b[0m\u001b[0mflags\u001b[0m\u001b[0;34m,\u001b[0m \u001b[0mcopy\u001b[0m\u001b[0;34m=\u001b[0m\u001b[0mcopy\u001b[0m\u001b[0;34m,\u001b[0m \u001b[0mtrack\u001b[0m\u001b[0;34m=\u001b[0m\u001b[0mtrack\u001b[0m\u001b[0;34m)\u001b[0m\u001b[0;34m]\u001b[0m\u001b[0;34m\u001b[0m\u001b[0m\n\u001b[0m\u001b[1;32m    396\u001b[0m         \u001b[0;31m# have first part already, only loop while more to receive\u001b[0m\u001b[0;34m\u001b[0m\u001b[0;34m\u001b[0m\u001b[0m\n",
      "\u001b[0;32mzmq/backend/cython/socket.pyx\u001b[0m in \u001b[0;36mzmq.backend.cython.socket.Socket.recv (zmq/backend/cython/socket.c:7683)\u001b[0;34m()\u001b[0m\n",
      "\u001b[0;32mzmq/backend/cython/socket.pyx\u001b[0m in \u001b[0;36mzmq.backend.cython.socket.Socket.recv (zmq/backend/cython/socket.c:7460)\u001b[0;34m()\u001b[0m\n",
      "\u001b[0;32mzmq/backend/cython/socket.pyx\u001b[0m in \u001b[0;36mzmq.backend.cython.socket._recv_copy (zmq/backend/cython/socket.c:2344)\u001b[0;34m()\u001b[0m\n",
      "\u001b[0;32m/home/amigos/.pyenv/versions/anaconda3-4.4.0/lib/python3.6/site-packages/zmq/backend/cython/checkrc.pxd\u001b[0m in \u001b[0;36mzmq.backend.cython.checkrc._check_rc (zmq/backend/cython/socket.c:9621)\u001b[0;34m()\u001b[0m\n",
      "\u001b[0;31mKeyboardInterrupt\u001b[0m: ",
      "\nDuring handling of the above exception, another exception occurred:\n",
      "\u001b[0;31mKeyboardInterrupt\u001b[0m                         Traceback (most recent call last)",
      "\u001b[0;32m<ipython-input-98-8cba93e34d5f>\u001b[0m in \u001b[0;36m<module>\u001b[0;34m()\u001b[0m\n\u001b[1;32m     18\u001b[0m \u001b[0mut\u001b[0m \u001b[0;34m=\u001b[0m \u001b[0mt\u001b[0m\u001b[0;34m.\u001b[0m\u001b[0mstrftime\u001b[0m\u001b[0;34m(\u001b[0m\u001b[0;34m\"%Y%m%d-%H%M%S\"\u001b[0m\u001b[0;34m)\u001b[0m\u001b[0;34m\u001b[0m\u001b[0m\n\u001b[1;32m     19\u001b[0m \u001b[0;34m\u001b[0m\u001b[0m\n\u001b[0;32m---> 20\u001b[0;31m \u001b[0mfilename\u001b[0m \u001b[0;34m=\u001b[0m \u001b[0minput\u001b[0m\u001b[0;34m(\u001b[0m\u001b[0;34m\"Please input timestump (data_at_xxxxx-xxxxx). \\n Input xxxxx-xxxxx\"\u001b[0m\u001b[0;34m)\u001b[0m\u001b[0;34m\u001b[0m\u001b[0m\n\u001b[0m\u001b[1;32m     21\u001b[0m \u001b[0mos\u001b[0m\u001b[0;34m.\u001b[0m\u001b[0mchdir\u001b[0m\u001b[0;34m(\u001b[0m\u001b[0;34m'/home/amigos/sakasai/jupyter/beam_mesure/data/data_at_{0}'\u001b[0m\u001b[0;34m.\u001b[0m\u001b[0mformat\u001b[0m\u001b[0;34m(\u001b[0m\u001b[0mfilename\u001b[0m\u001b[0;34m)\u001b[0m\u001b[0;34m)\u001b[0m\u001b[0;34m\u001b[0m\u001b[0m\n\u001b[1;32m     22\u001b[0m \u001b[0;34m\u001b[0m\u001b[0m\n",
      "\u001b[0;32m/home/amigos/.pyenv/versions/anaconda3-4.4.0/lib/python3.6/site-packages/ipykernel/kernelbase.py\u001b[0m in \u001b[0;36mraw_input\u001b[0;34m(self, prompt)\u001b[0m\n\u001b[1;32m    703\u001b[0m             \u001b[0mself\u001b[0m\u001b[0;34m.\u001b[0m\u001b[0m_parent_ident\u001b[0m\u001b[0;34m,\u001b[0m\u001b[0;34m\u001b[0m\u001b[0m\n\u001b[1;32m    704\u001b[0m             \u001b[0mself\u001b[0m\u001b[0;34m.\u001b[0m\u001b[0m_parent_header\u001b[0m\u001b[0;34m,\u001b[0m\u001b[0;34m\u001b[0m\u001b[0m\n\u001b[0;32m--> 705\u001b[0;31m             \u001b[0mpassword\u001b[0m\u001b[0;34m=\u001b[0m\u001b[0;32mFalse\u001b[0m\u001b[0;34m,\u001b[0m\u001b[0;34m\u001b[0m\u001b[0m\n\u001b[0m\u001b[1;32m    706\u001b[0m         )\n\u001b[1;32m    707\u001b[0m \u001b[0;34m\u001b[0m\u001b[0m\n",
      "\u001b[0;32m/home/amigos/.pyenv/versions/anaconda3-4.4.0/lib/python3.6/site-packages/ipykernel/kernelbase.py\u001b[0m in \u001b[0;36m_input_request\u001b[0;34m(self, prompt, ident, parent, password)\u001b[0m\n\u001b[1;32m    733\u001b[0m             \u001b[0;32mexcept\u001b[0m \u001b[0mKeyboardInterrupt\u001b[0m\u001b[0;34m:\u001b[0m\u001b[0;34m\u001b[0m\u001b[0m\n\u001b[1;32m    734\u001b[0m                 \u001b[0;31m# re-raise KeyboardInterrupt, to truncate traceback\u001b[0m\u001b[0;34m\u001b[0m\u001b[0;34m\u001b[0m\u001b[0m\n\u001b[0;32m--> 735\u001b[0;31m                 \u001b[0;32mraise\u001b[0m \u001b[0mKeyboardInterrupt\u001b[0m\u001b[0;34m\u001b[0m\u001b[0m\n\u001b[0m\u001b[1;32m    736\u001b[0m             \u001b[0;32melse\u001b[0m\u001b[0;34m:\u001b[0m\u001b[0;34m\u001b[0m\u001b[0m\n\u001b[1;32m    737\u001b[0m                 \u001b[0;32mbreak\u001b[0m\u001b[0;34m\u001b[0m\u001b[0m\n",
      "\u001b[0;31mKeyboardInterrupt\u001b[0m: "
     ]
    }
   ],
   "source": [
    "# 短冊を考慮したGaussFitting\n",
    "\n",
    "import os, sys, csv, datetime, numpy\n",
    "from scipy import integrate\n",
    "from scipy import optimize\n",
    "import matplotlib.pyplot as plt\n",
    "\n",
    "cnt = 0\n",
    "x_cw = numpy.array([])\n",
    "x_ccw = numpy.array([])\n",
    "y_cw = numpy.array([])\n",
    "y_ccw = numpy.array([])\n",
    "pwr_x_cw = numpy.array([])\n",
    "pwr_x_ccw = numpy.array([])\n",
    "pwr_y_cw = numpy.array([])\n",
    "pwr_y_ccw = numpy.array([])\n",
    "t = datetime.datetime.now()\n",
    "ut = t.strftime(\"%Y%m%d-%H%M%S\")\n",
    "\n",
    "filename = input(\"Please input timestump (data_at_xxxxx-xxxxx). \\n Input xxxxx-xxxxx\")\n",
    "os.chdir('/home/amigos/sakasai/jupyter/beam_mesure/data/data_at_{0}'.format(filename))\n",
    "\n",
    "dirc = ['x_cw', 'x_ccw', 'y_cw', 'y_ccw']\n",
    "for dirc_ in dirc:\n",
    "    if dirc_=='x_cw': \n",
    "        f = open('{0}_{1}.csv'.format(filename, dirc_), 'r', encoding='utf_8_sig')\n",
    "        try:\n",
    "            reader = csv.reader(f)\n",
    "            for row in reader:\n",
    "                x_cw = numpy.append(x_cw, float(row[0]))\n",
    "                pwr_x_cw = numpy.append(pwr_x_cw, float(row[1]))\n",
    "        finally:\n",
    "            f.close()\n",
    "    elif dirc_=='x_ccw': \n",
    "        f = open('{0}_{1}.csv'.format(filename, dirc_), 'r', encoding='utf_8_sig')\n",
    "        try:\n",
    "            reader = csv.reader(f)\n",
    "            for row in reader:\n",
    "                x_ccw= numpy.append(x_ccw, float(row[0]))\n",
    "                pwr_x_ccw = numpy.append(pwr_x_ccw, float(row[1]))\n",
    "                cnt = cnt + 1\n",
    "        finally:\n",
    "            f.close()\n",
    "    elif dirc_=='y_cw': \n",
    "        f = open('{0}_{1}.csv'.format(filename, dirc_), 'r', encoding='utf_8_sig')\n",
    "        try:\n",
    "            reader = csv.reader(f)\n",
    "            for row in reader:\n",
    "                y_cw = numpy.append(y_cw, float(row[0]))\n",
    "                pwr_y_cw = numpy.append(pwr_y_cw, float(row[1]))\n",
    "        finally:\n",
    "            f.close()\n",
    "    elif dirc_=='y_ccw':\n",
    "        f = open('{0}_{1}.csv'.format(filename, dirc_), 'r', encoding='utf_8_sig')\n",
    "        try:\n",
    "            reader = csv.reader(f)\n",
    "            for row in reader:\n",
    "                y_ccw = numpy.append(y_ccw, float(row[0]))\n",
    "                pwr_y_ccw = numpy.append(pwr_y_ccw, float(row[1]))\n",
    "        finally:\n",
    "            f.close()\n",
    "\n",
    "def fanction_gauss(param, x, y):\n",
    "    mval = numpy.array([])\n",
    "    def f(x):\n",
    "        return param[0]*numpy.exp(-(x-param[2])**2/(2*(param[1])**2))+param[3]\n",
    "    for i in range(int(cnt)):\n",
    "        mval_ = integrate.quad(f, x[i]-0.5, x[i]+0.5)\n",
    "        mval = numpy.append(mval, mval_[0])\n",
    "    print(mval)\n",
    "    print(y)\n",
    "    residual = y - mval\n",
    "    return residual\n",
    "\n",
    "def fitting(x):\n",
    "    mval = numpy.array([])\n",
    "    def f(x):\n",
    "        return param[0][0]*numpy.exp(-(x-param[0][2])**2/(2*(param[0][1])**2))+param[0][3]\n",
    "    for i in range(int(cnt)):\n",
    "        mval_ = integrate.quad(f, x[i]-0.5, x[i]+0.5)[0]\n",
    "        mval = numpy.append(mval, mval_[0])\n",
    "    return mval\n",
    "\n",
    "param0 = [3.5, 10, 75, -21.7]\n",
    "param = optimize.leastsq(fanction_gauss,  param0, args=(x, y))\n",
    "\n",
    "fig = plt.figure(figsize=(12, 12))\n",
    "\n",
    "ax1 = fig.add_subplot(221)\n",
    "ax1.plot(x_cw, fitting(x_cw), color='orange', linewidth=2, label='gaussian')\n",
    "ax1.plot(x_cw, pwr_x_cw, color='dodgerblue', linewidth=0, marker='.', \n",
    "         markersize=9, markeredgecolor='dodgerblue', label='measure')\n",
    "ax1.set_title('x_cw_measurement', size=15)\n",
    "ax1.set_xlabel('Friquency [GHz]')\n",
    "ax1.set_ylabel('Power [dB]')\n",
    "ax1.grid(True)\n",
    "\n",
    "ax2 = fig.add_subplot(221)\n",
    "ax2.plot(x_ccw, fitting(x_ccw), color='orange', linewidth=2, label='gaussian')\n",
    "ax2.plot(x_ccw, pwr_x_ccw, color='dodgerblue', linewidth=0, marker='.', \n",
    "         markersize=9, markeredgecolor='dodgerblue', label='measure')\n",
    "ax2.set_title('x_cw_measurement', size=15)\n",
    "ax2.set_xlabel('Friquency [GHz]')\n",
    "ax2.set_ylabel('Power [dB]')\n",
    "ax2.grid(True)\n",
    "\n",
    "ax3 = fig.add_subplot(221)\n",
    "ax3.plot(y_cw, fitting(y_cw), color='orange', linewidth=2, label='gaussian')\n",
    "ax3.plot(y_cw, pwr_y_cw, color='dodgerblue', linewidth=0, marker='.', \n",
    "         markersize=9, markeredgecolor='dodgerblue', label='measure')\n",
    "ax3.set_title('x_cw_measurement', size=15)\n",
    "ax3.set_xlabel('Friquency [GHz]')\n",
    "ax3.set_ylabel('Power [dB]')\n",
    "ax3.grid(True)\n",
    "\n",
    "ax4 = fig.add_subplot(221)\n",
    "ax4.plot(y_ccw, fitting(y_ccw), color='orange', linewidth=2, label='gaussian')\n",
    "ax4.plot(y_ccw, pwr_y_ccw, color='dodgerblue', linewidth=0, marker='.', \n",
    "         markersize=9, markeredgecolor='dodgerblue', label='measure')\n",
    "ax4.set_title('x_cw_measurement', size=15)\n",
    "ax4.set_xlabel('Friquency [GHz]')\n",
    "ax4.set_ylabel('Power [dB]')\n",
    "ax4.grid(True)\n",
    "\n",
    "fig.suptitle('NASCORX_BEAM_MEASUREMENT \\n Date:{0}'.format(ut), fontsize=17)\n",
    "plt.show()\n",
    "\n",
    "'''\n",
    "plt.figure(figsize=(10,6))\n",
    "plt.plot(x, fitting(x), color='orange', linewidth=2, label='gaussian')\n",
    "plt.plot(x, y, color='dodgerblue', linewidth=0, marker='.', \n",
    "         markersize=9, markeredgecolor='dodgerblue', label='measure')\n",
    "#plt.plot([param[0][2], param[0][2]], [param[0][3], param[0][3]+param[0][0]], 'k-')\n",
    "plt.xlabel(\"x_range[mm]\", size=16)\n",
    "plt.ylabel(\"power_value[dBm]\", size=16)\n",
    "plt.tick_params(labelsize=12)\n",
    "plt.xlim(-20, 170)\n",
    "plt.grid()\n",
    "plt.legend(loc=\"upper right\", fontsize=16)\n",
    "plt.text(0, param[0][3]+1.15, \"Xc = {0:.3f}\".format(param[0][2]), fontsize=18)\n",
    "plt.text(0, param[0][3]+1, \"FWHM = {0:.3f}\".format(2.35*param[0][1]), fontsize=18)\n",
    "plt.title(\"{0} \\n Beamsize Measurement\".format(filename), size=20)\n",
    "print(\"Standard_deviation = {0}\".format(param[0][1]))\n",
    "print(\"FWHM = {0}\".format(2.35*param[0][1]))\n",
    "plt.savefig(\"{0}.png\".format(filename))\n",
    "print(param[0][3])\n",
    "plt.show()\n",
    "'''"
   ]
  },
  {
   "cell_type": "code",
   "execution_count": 16,
   "metadata": {},
   "outputs": [
    {
     "name": "stdout",
     "output_type": "stream",
     "text": [
      "[]\n",
      "[]\n"
     ]
    }
   ],
   "source": [
    "dirc = ['x_cw', 'x_ccw', 'y_cw', 'y_ccw']\n",
    "a = []\n",
    "b = []\n",
    "for dirc_ in dirc:\n",
    "    if dirc_=='x_cw':\n",
    "        c,d=a,b\n",
    "        print(c)\n",
    "        print(d)"
   ]
  },
  {
   "cell_type": "code",
   "execution_count": 74,
   "metadata": {},
   "outputs": [
    {
     "name": "stdout",
     "output_type": "stream",
     "text": [
      "(-21.699999999918244, 2.409183963427513e-13)\n"
     ]
    }
   ],
   "source": [
    "param=param0\n",
    "def f(x):\n",
    "    return param[0]*numpy.exp(-(x-param[2])**2/(2*(param[1])**2))+param[3]\n",
    "mval_ = integrate.quad(f, 5-0.5, 5+0.5)\n",
    "print(mval_)"
   ]
  },
  {
   "cell_type": "code",
   "execution_count": 84,
   "metadata": {},
   "outputs": [
    {
     "data": {
      "text/plain": [
       "2"
      ]
     },
     "execution_count": 84,
     "metadata": {},
     "output_type": "execute_result"
    }
   ],
   "source": [
    "import numpy\n",
    "a = numpy.array([1,2,3,4,5])\n",
    "a[1]"
   ]
  },
  {
   "cell_type": "code",
   "execution_count": null,
   "metadata": {
    "collapsed": true
   },
   "outputs": [],
   "source": []
  }
 ],
 "metadata": {
  "kernelspec": {
   "display_name": "Python 3",
   "language": "python",
   "name": "python3"
  },
  "language_info": {
   "codemirror_mode": {
    "name": "ipython",
    "version": 3
   },
   "file_extension": ".py",
   "mimetype": "text/x-python",
   "name": "python",
   "nbconvert_exporter": "python",
   "pygments_lexer": "ipython3",
   "version": "3.6.1"
  }
 },
 "nbformat": 4,
 "nbformat_minor": 2
}
