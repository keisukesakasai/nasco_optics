{
 "cells": [
  {
   "cell_type": "code",
   "execution_count": 44,
   "metadata": {
    "collapsed": true
   },
   "outputs": [],
   "source": [
    "import numpy"
   ]
  },
  {
   "cell_type": "code",
   "execution_count": 49,
   "metadata": {
    "collapsed": true
   },
   "outputs": [],
   "source": [
    "def calc_time(file=''):\n",
    "    file_name = file.split('_')[2]\n",
    "    d1 = numpy.loadtxt('./data/{0}/{1}_x_ccw.csv'.format(file, file_name), delimiter=',')\n",
    "    t1 = d1[:,0][0]\n",
    "    print(t1)\n",
    "    d2 = numpy.loadtxt('./data/{0}/{1}_y_ccw.csv'.format(file, file_name), delimiter=',')\n",
    "    t2 = d2[:,0][-1]\n",
    "    print(t2)\n",
    "    dt = t2 - t1\n",
    "    return dt / 60"
   ]
  },
  {
   "cell_type": "code",
   "execution_count": 50,
   "metadata": {},
   "outputs": [
    {
     "name": "stdout",
     "output_type": "stream",
     "text": [
      "1523518067.82\n",
      "1523519099.9\n"
     ]
    },
    {
     "data": {
      "text/plain": [
       "17.201206966241202"
      ]
     },
     "execution_count": 50,
     "metadata": {},
     "output_type": "execute_result"
    }
   ],
   "source": [
    "# ave = 16\n",
    "calc_time(file='data_at_20180412-162747')"
   ]
  },
  {
   "cell_type": "code",
   "execution_count": 51,
   "metadata": {},
   "outputs": [
    {
     "name": "stdout",
     "output_type": "stream",
     "text": [
      "1523519992.25\n",
      "1523520851.21\n"
     ]
    },
    {
     "data": {
      "text/plain": [
       "14.315925165017445"
      ]
     },
     "execution_count": 51,
     "metadata": {},
     "output_type": "execute_result"
    }
   ],
   "source": [
    "# ave = 64\n",
    "calc_time(file='data_at_20180412-165951')"
   ]
  },
  {
   "cell_type": "code",
   "execution_count": 52,
   "metadata": {},
   "outputs": [
    {
     "name": "stdout",
     "output_type": "stream",
     "text": [
      "1523522732.13\n",
      "1523523613.08\n"
     ]
    },
    {
     "data": {
      "text/plain": [
       "14.682401017347972"
      ]
     },
     "execution_count": 52,
     "metadata": {},
     "output_type": "execute_result"
    }
   ],
   "source": [
    "# ave = 5\n",
    "calc_time(file='data_at_20180412-174531')"
   ]
  },
  {
   "cell_type": "code",
   "execution_count": 53,
   "metadata": {},
   "outputs": [
    {
     "name": "stdout",
     "output_type": "stream",
     "text": [
      "1523535092.49\n",
      "1523535949.96\n"
     ]
    },
    {
     "data": {
      "text/plain": [
       "14.291142265001932"
      ]
     },
     "execution_count": 53,
     "metadata": {},
     "output_type": "execute_result"
    }
   ],
   "source": [
    "# No.12 ave = 64\n",
    "calc_time(file='data_at_20180412-211131')"
   ]
  },
  {
   "cell_type": "code",
   "execution_count": 57,
   "metadata": {},
   "outputs": [
    {
     "name": "stdout",
     "output_type": "stream",
     "text": [
      "1523539428.23\n",
      "1523540285.6\n"
     ]
    },
    {
     "data": {
      "text/plain": [
       "14.289503482977549"
      ]
     },
     "execution_count": 57,
     "metadata": {},
     "output_type": "execute_result"
    }
   ],
   "source": [
    "# No.13 ave = 64\n",
    "calc_time(file='data_at_20180412-222347')"
   ]
  },
  {
   "cell_type": "code",
   "execution_count": null,
   "metadata": {
    "collapsed": true
   },
   "outputs": [],
   "source": [
    "#pm の ave を変更してもあまり測定時間に違いは見えなかった"
   ]
  },
  {
   "cell_type": "code",
   "execution_count": 58,
   "metadata": {
    "collapsed": true
   },
   "outputs": [],
   "source": [
    "d1= numpy.loadtxt('./data/data_at_20180412-234832/20180412-234832_x_ccw.csv', delimiter=',')\n",
    "d2= numpy.loadtxt('./data/data_at_20180412-234832/20180412-234832_x_cw.csv', delimiter=',')\n",
    "d3= numpy.loadtxt('./data/data_at_20180412-234832/20180412-234832_y_cw.csv', delimiter=',')\n",
    "d4= numpy.loadtxt('./data/data_at_20180412-234832/20180412-234832_y_ccw.csv', delimiter=',')"
   ]
  },
  {
   "cell_type": "code",
   "execution_count": 61,
   "metadata": {
    "collapsed": true
   },
   "outputs": [],
   "source": [
    "t1 = d1[:,0]\n",
    "t2 = d2[:,0]\n",
    "t3 = d3[:,0]\n",
    "t4 = d4[:,0]"
   ]
  },
  {
   "cell_type": "code",
   "execution_count": 67,
   "metadata": {
    "collapsed": true
   },
   "outputs": [],
   "source": [
    "dt1 = t2[-1] - t1[0]\n",
    "dt2 = t4[-1] - t3[0]"
   ]
  },
  {
   "cell_type": "code",
   "execution_count": 68,
   "metadata": {},
   "outputs": [
    {
     "data": {
      "text/plain": [
       "234.71608591079712"
      ]
     },
     "execution_count": 68,
     "metadata": {},
     "output_type": "execute_result"
    }
   ],
   "source": [
    "dt1"
   ]
  },
  {
   "cell_type": "code",
   "execution_count": 69,
   "metadata": {},
   "outputs": [
    {
     "data": {
      "text/plain": [
       "611.09680199623108"
      ]
     },
     "execution_count": 69,
     "metadata": {},
     "output_type": "execute_result"
    }
   ],
   "source": [
    "dt2"
   ]
  },
  {
   "cell_type": "code",
   "execution_count": 7,
   "metadata": {},
   "outputs": [
    {
     "name": "stdout",
     "output_type": "stream",
     "text": [
      "214.5\n",
      "1.1289473684210527\n"
     ]
    }
   ],
   "source": [
    "t0 = 14.3 # [min.]\n",
    "t1 = t0 * 60 / 4\n",
    "print(t1) # 1スキャン [sec.]\n",
    "t2 = t1  / 190 # 1間隔 [sec.]\n",
    "print(t2)"
   ]
  },
  {
   "cell_type": "code",
   "execution_count": null,
   "metadata": {
    "collapsed": true
   },
   "outputs": [],
   "source": []
  }
 ],
 "metadata": {
  "kernelspec": {
   "display_name": "Python 3",
   "language": "python",
   "name": "python3"
  },
  "language_info": {
   "codemirror_mode": {
    "name": "ipython",
    "version": 3
   },
   "file_extension": ".py",
   "mimetype": "text/x-python",
   "name": "python",
   "nbconvert_exporter": "python",
   "pygments_lexer": "ipython3",
   "version": "3.6.1"
  }
 },
 "nbformat": 4,
 "nbformat_minor": 2
}
